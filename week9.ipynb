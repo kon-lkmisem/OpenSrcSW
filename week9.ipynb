{
 "cells": [
  {
   "cell_type": "code",
   "execution_count": 18,
   "metadata": {},
   "outputs": [
    {
     "name": "stdout",
     "output_type": "stream",
     "text": [
      "x=10\n",
      "y= 353.0\n",
      "원의 반지름을 입력하시오:20\n",
      "원의 둘레는125.6이다.\n",
      "원의 넓이는1256.0이다.\n"
     ]
    }
   ],
   "source": [
    "x=float(input(\"x=\"))\n",
    "y=3*x**2+5*x+3\n",
    "print(\"y=\",y)\n",
    "\n",
    "pi=3.14\n",
    "r=float(input(\"원의 반지름을 입력하시오:\"))\n",
    "print(\"원의 둘레는\"+str(round(2*pi*r,2))+\"이다.\")\n",
    "print(\"원의 넓이는\"+str(round(pi*r**2 , 2))+\"이다.\")"
   ]
  },
  {
   "cell_type": "code",
   "execution_count": null,
   "metadata": {},
   "outputs": [],
   "source": []
  },
  {
   "cell_type": "code",
   "execution_count": null,
   "metadata": {},
   "outputs": [],
   "source": []
  },
  {
   "cell_type": "code",
   "execution_count": null,
   "metadata": {},
   "outputs": [],
   "source": []
  },
  {
   "cell_type": "code",
   "execution_count": null,
   "metadata": {},
   "outputs": [],
   "source": []
  }
 ],
 "metadata": {
  "kernelspec": {
   "display_name": "Python 3",
   "language": "python",
   "name": "python3"
  },
  "language_info": {
   "codemirror_mode": {
    "name": "ipython",
    "version": 3
   },
   "file_extension": ".py",
   "mimetype": "text/x-python",
   "name": "python",
   "nbconvert_exporter": "python",
   "pygments_lexer": "ipython3",
   "version": "3.8.5"
  }
 },
 "nbformat": 4,
 "nbformat_minor": 4
}
