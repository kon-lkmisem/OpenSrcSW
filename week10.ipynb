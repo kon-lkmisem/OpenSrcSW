{
 "cells": [
  {
   "cell_type": "code",
   "execution_count": 33,
   "metadata": {},
   "outputs": [
    {
     "name": "stdout",
     "output_type": "stream",
     "text": [
      "문자열을 입력하시오 : asd fgh\n",
      "asd fgh -> 암호화 -> ihg etb \n",
      "fgh asd -> 복호화 -> asd fgh \n"
     ]
    }
   ],
   "source": [
    "\n",
    "#실습2\n",
    "num = input(\"Numbers? \").split(\" \")\n",
    "max=int(num[0])\n",
    "for i in range(1,len(num)):\n",
    "    if max<int(num[i]):\n",
    "        max=int(num[i])\n",
    "print(\"Max=\", max)\n",
    "\n",
    "\n",
    "#실습3\n",
    "str = input(\"문자열을 입력하시오 : \")\n",
    "str_lock=str.split(\" \")\n",
    "for i in range(len(str_lock)):\n",
    "    str_lock[i]=str.split(\" \")[i][::-1]\n",
    "    b=\"\"\n",
    "    for j in range(len(str_lock[i])):      \n",
    "        a=ord(str_lock[i][j])+1\n",
    "        b+=chr(a)\n",
    "    str_lock[i]=b\n",
    "str_lock=str_lock[::-1]\n",
    "out=\"\"\n",
    "out+=str+\" -> 암호화 -> \"\n",
    "for i in range(len(str_lock)):\n",
    "    out+=str_lock[i]\n",
    "    out+=\" \"\n",
    "print(out)\n",
    "\n",
    "str_unlock=str_lock\n",
    "for i in range(len(str_lock)):\n",
    "    str_unlock[i]=str_lock[i][::-1]\n",
    "    b=\"\"\n",
    "    for j in range(len(str_unlock[i])):      \n",
    "        a=ord(str_unlock[i][j])-1\n",
    "        b+=chr(a)\n",
    "    str_unlock[i]=b\n",
    "str_unlock=str_unlock[::-1]\n",
    "out=\"\"\n",
    "for i in range(len(str_lock)):\n",
    "    out+=str_lock[i]\n",
    "    out+=\" \"\n",
    "out+=\"-> 복호화 -> \"\n",
    "for i in range(len(str_lock)):\n",
    "    out+=str_unlock[i]\n",
    "    out+=\" \"\n",
    "print(out)\n",
    "\n",
    "#실습4\n",
    "dic={}\n",
    "for i in range(10):\n",
    "    a=input(\"이름:\")\n",
    "    b=input(\"전화번호:\")\n",
    "    dic[i]={a:b}\n",
    "    \n",
    "name=input()\n",
    "print(\"전화번호:\", dic[name])\n",
    "    "
   ]
  },
  {
   "cell_type": "code",
   "execution_count": null,
   "metadata": {},
   "outputs": [],
   "source": []
  },
  {
   "cell_type": "code",
   "execution_count": null,
   "metadata": {},
   "outputs": [],
   "source": []
  },
  {
   "cell_type": "code",
   "execution_count": null,
   "metadata": {},
   "outputs": [],
   "source": []
  }
 ],
 "metadata": {
  "kernelspec": {
   "display_name": "Python 3",
   "language": "python",
   "name": "python3"
  },
  "language_info": {
   "codemirror_mode": {
    "name": "ipython",
    "version": 3
   },
   "file_extension": ".py",
   "mimetype": "text/x-python",
   "name": "python",
   "nbconvert_exporter": "python",
   "pygments_lexer": "ipython3",
   "version": "3.8.5"
  }
 },
 "nbformat": 4,
 "nbformat_minor": 4
}
