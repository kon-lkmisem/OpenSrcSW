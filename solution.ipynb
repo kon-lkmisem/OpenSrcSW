{
 "cells": [
  {
   "cell_type": "code",
   "execution_count": 85,
   "metadata": {},
   "outputs": [
    {
     "name": "stdout",
     "output_type": "stream",
     "text": [
      "(1,2)\n",
      "(3,4)\n",
      "(4,6)\n"
     ]
    }
   ],
   "source": [
    "class Point():\n",
    "    x=0\n",
    "    y=0\n",
    "    def __init__(self,a,b):\n",
    "        self.x=a\n",
    "        self.y=b\n",
    "    \n",
    "    def __add__(self,other):\n",
    "        self.x+=other.x\n",
    "        self.y+=other.y\n",
    "        return self\n",
    "    \n",
    "    def show(self):\n",
    "        print(\"(\"+str(self.x)+\",\"+str(self.y)+\")\")\n",
    "        \n",
    "    \n",
    "\n",
    "a=Point(1,2)\n",
    "a.show()\n",
    "\n",
    "b=Point(3,4)\n",
    "b.show()\n",
    "\n",
    "a=a+b\n",
    "a.show()"
   ]
  },
  {
   "cell_type": "code",
   "execution_count": 84,
   "metadata": {
    "scrolled": true
   },
   "outputs": [
    {
     "name": "stdout",
     "output_type": "stream",
     "text": [
      "[64.3, 79.69999999999999, 50.3, 59.9, 29.1]\n",
      "Max Week = 5/29~ 5/36\n"
     ]
    }
   ],
   "source": [
    "import csv\n",
    "import matplotlib.pyplot as plt\n",
    "from matplotlib import font_manager, rc\n",
    "font_path = \"C:/Windows/Fonts/NGULIM.TTF\"\n",
    "font = font_manager.FontProperties(fname=font_path).get_name()\n",
    "rc('font', family=font)\n",
    "\n",
    "f=open('seoul.csv')\n",
    "data =csv.reader(f)\n",
    "header = next(data)\n",
    "\n",
    "i=0\n",
    "cnt=1\n",
    "sum=[0,0,0,0,0]\n",
    "\n",
    "for row in data:\n",
    "    sum[i]+=abs(float(row[3])-float(row[4]))\n",
    "    if cnt==7:\n",
    "        cnt=0\n",
    "        i+=1\n",
    "    cnt+=1\n",
    "max_w=0;\n",
    "max_i=0;\n",
    "for j in range(5):\n",
    "    if max_w<sum[j]:\n",
    "        max=sum\n",
    "        max_i=j\n",
    "print(\"Max Week = 5/\"+ str(max_i*7+1) +\"~ 5/\"+str(max_i*7+8))"
   ]
  },
  {
   "cell_type": "code",
   "execution_count": 59,
   "metadata": {},
   "outputs": [
    {
     "data": {
      "image/png": "[encoded data removed]",
      "text/plain": [
       "<Figure size 432x288 with 1 Axes>"
      ]
     },
     "metadata": {
      "needs_background": "light"
     },
     "output_type": "display_data"
    }
   ],
   "source": [
    "import numpy as np\n",
    "import matplotlib.pyplot as plt\n",
    "\n",
    "docs=np.array([[1,1,0,1,0,1],[1,1,1,0,1,0],[1,1,0,1,0,0]])\n",
    "q=np.array([1,1,0,0,1,0])\n",
    "name=[\"\",\"\",\"\"]\n",
    "result=[0,0,0]\n",
    "\n",
    "for i in range(3):\n",
    "    result[i] = np.dot(docs[i],q)\n",
    "    sum=[0,0]\n",
    "    for j in range(len(docs[i])):\n",
    "        sum[0]+=(docs[i][j])**2\n",
    "    sum[0]=sum[0]**(1/2)\n",
    "    for j in range(len(q)):\n",
    "        sum[1]+=(q[j])**2\n",
    "    sum[1]=sum[1]**(1/2)\n",
    "    result[i]/=(sum[0]*sum[1])\n",
    "    name[i]=\"docl = \" +str(round(result[i],2))\n",
    "plt.bar(name,result)\n",
    "plt.title(\"cosine similarities\")\n",
    "plt.show()"
   ]
  },
  {
   "cell_type": "code",
   "execution_count": null,
   "metadata": {},
   "outputs": [],
   "source": []
  }
 ],
 "metadata": {
  "kernelspec": {
   "display_name": "Python 3",
   "language": "python",
   "name": "python3"
  },
  "language_info": {
   "codemirror_mode": {
    "name": "ipython",
    "version": 3
   },
   "file_extension": ".py",
   "mimetype": "text/x-python",
   "name": "python",
   "nbconvert_exporter": "python",
   "pygments_lexer": "ipython3",
   "version": "3.8.5"
  }
 },
 "nbformat": 4,
 "nbformat_minor": 4
}
